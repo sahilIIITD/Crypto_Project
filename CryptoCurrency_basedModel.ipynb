{
  "nbformat": 4,
  "nbformat_minor": 0,
  "metadata": {
    "colab": {
      "name": "cryptocurrency (1).ipynb",
      "provenance": [],
      "collapsed_sections": []
    },
    "kernelspec": {
      "name": "python3",
      "display_name": "Python 3"
    },
    "language_info": {
      "name": "python"
    }
  },
  "cells": [
    {
      "cell_type": "code",
      "metadata": {
        "id": "Eru690i0Ye5l"
      },
      "source": [
        "import numpy as np\n",
        "import matplotlib.pyplot as plt\n",
        "import pandas as pd\n",
        "from sklearn.preprocessing import MinMaxScaler"
      ],
      "execution_count": 151,
      "outputs": []
    },
    {
      "cell_type": "code",
      "metadata": {
        "colab": {
          "base_uri": "https://localhost:8080/"
        },
        "id": "yL5qSXvvYZuv",
        "outputId": "f31812f7-25b2-47fc-b6f0-38397e421c1d"
      },
      "source": [
        "from google.colab import drive\n",
        "drive.mount('/content/drive')\n"
      ],
      "execution_count": 152,
      "outputs": [
        {
          "output_type": "stream",
          "name": "stdout",
          "text": [
            "Drive already mounted at /content/drive; to attempt to forcibly remount, call drive.mount(\"/content/drive\", force_remount=True).\n"
          ]
        }
      ]
    },
    {
      "cell_type": "code",
      "metadata": {
        "colab": {
          "base_uri": "https://localhost:8080/",
          "height": 206
        },
        "id": "S7VlmmgVYmLh",
        "outputId": "6dc89884-49d2-4875-898b-2d31f61a9371"
      },
      "source": [
        "data = pd.read_csv('/content/drive/My Drive/CryptoCurrency_project/BTC-USD.csv', date_parser = True)\n",
        "data.tail()"
      ],
      "execution_count": 153,
      "outputs": [
        {
          "output_type": "execute_result",
          "data": {
            "text/html": [
              "<div>\n",
              "<style scoped>\n",
              "    .dataframe tbody tr th:only-of-type {\n",
              "        vertical-align: middle;\n",
              "    }\n",
              "\n",
              "    .dataframe tbody tr th {\n",
              "        vertical-align: top;\n",
              "    }\n",
              "\n",
              "    .dataframe thead th {\n",
              "        text-align: right;\n",
              "    }\n",
              "</style>\n",
              "<table border=\"1\" class=\"dataframe\">\n",
              "  <thead>\n",
              "    <tr style=\"text-align: right;\">\n",
              "      <th></th>\n",
              "      <th>Date</th>\n",
              "      <th>Open</th>\n",
              "      <th>High</th>\n",
              "      <th>Low</th>\n",
              "      <th>Close</th>\n",
              "      <th>Adj Close</th>\n",
              "      <th>Volume</th>\n",
              "    </tr>\n",
              "  </thead>\n",
              "  <tbody>\n",
              "    <tr>\n",
              "      <th>1822</th>\n",
              "      <td>2021-09-20</td>\n",
              "      <td>47261.406250</td>\n",
              "      <td>47328.199219</td>\n",
              "      <td>42598.914063</td>\n",
              "      <td>42843.800781</td>\n",
              "      <td>42843.800781</td>\n",
              "      <td>4.390985e+10</td>\n",
              "    </tr>\n",
              "    <tr>\n",
              "      <th>1823</th>\n",
              "      <td>2021-09-21</td>\n",
              "      <td>43012.234375</td>\n",
              "      <td>43607.609375</td>\n",
              "      <td>39787.609375</td>\n",
              "      <td>40693.675781</td>\n",
              "      <td>40693.675781</td>\n",
              "      <td>4.870109e+10</td>\n",
              "    </tr>\n",
              "    <tr>\n",
              "      <th>1824</th>\n",
              "      <td>2021-09-22</td>\n",
              "      <td>40677.953125</td>\n",
              "      <td>43978.621094</td>\n",
              "      <td>40625.632813</td>\n",
              "      <td>43574.507813</td>\n",
              "      <td>43574.507813</td>\n",
              "      <td>3.813971e+10</td>\n",
              "    </tr>\n",
              "    <tr>\n",
              "      <th>1825</th>\n",
              "      <td>2021-09-23</td>\n",
              "      <td>43560.296875</td>\n",
              "      <td>44942.175781</td>\n",
              "      <td>43109.339844</td>\n",
              "      <td>44895.097656</td>\n",
              "      <td>44895.097656</td>\n",
              "      <td>3.424406e+10</td>\n",
              "    </tr>\n",
              "    <tr>\n",
              "      <th>1826</th>\n",
              "      <td>2021-09-24</td>\n",
              "      <td>44858.941406</td>\n",
              "      <td>44951.949219</td>\n",
              "      <td>43996.035156</td>\n",
              "      <td>44225.003906</td>\n",
              "      <td>44225.003906</td>\n",
              "      <td>3.329657e+10</td>\n",
              "    </tr>\n",
              "  </tbody>\n",
              "</table>\n",
              "</div>"
            ],
            "text/plain": [
              "            Date          Open  ...     Adj Close        Volume\n",
              "1822  2021-09-20  47261.406250  ...  42843.800781  4.390985e+10\n",
              "1823  2021-09-21  43012.234375  ...  40693.675781  4.870109e+10\n",
              "1824  2021-09-22  40677.953125  ...  43574.507813  3.813971e+10\n",
              "1825  2021-09-23  43560.296875  ...  44895.097656  3.424406e+10\n",
              "1826  2021-09-24  44858.941406  ...  44225.003906  3.329657e+10\n",
              "\n",
              "[5 rows x 7 columns]"
            ]
          },
          "metadata": {},
          "execution_count": 153
        }
      ]
    },
    {
      "cell_type": "code",
      "metadata": {
        "colab": {
          "base_uri": "https://localhost:8080/",
          "height": 300
        },
        "id": "cB-rueztZEee",
        "outputId": "e0513e4d-4d97-4c98-e0c5-f9e038c8a9ff"
      },
      "source": [
        "data.describe()"
      ],
      "execution_count": 154,
      "outputs": [
        {
          "output_type": "execute_result",
          "data": {
            "text/html": [
              "<div>\n",
              "<style scoped>\n",
              "    .dataframe tbody tr th:only-of-type {\n",
              "        vertical-align: middle;\n",
              "    }\n",
              "\n",
              "    .dataframe tbody tr th {\n",
              "        vertical-align: top;\n",
              "    }\n",
              "\n",
              "    .dataframe thead th {\n",
              "        text-align: right;\n",
              "    }\n",
              "</style>\n",
              "<table border=\"1\" class=\"dataframe\">\n",
              "  <thead>\n",
              "    <tr style=\"text-align: right;\">\n",
              "      <th></th>\n",
              "      <th>Open</th>\n",
              "      <th>High</th>\n",
              "      <th>Low</th>\n",
              "      <th>Close</th>\n",
              "      <th>Adj Close</th>\n",
              "      <th>Volume</th>\n",
              "    </tr>\n",
              "  </thead>\n",
              "  <tbody>\n",
              "    <tr>\n",
              "      <th>count</th>\n",
              "      <td>1823.000000</td>\n",
              "      <td>1823.000000</td>\n",
              "      <td>1823.000000</td>\n",
              "      <td>1823.000000</td>\n",
              "      <td>1823.000000</td>\n",
              "      <td>1.823000e+03</td>\n",
              "    </tr>\n",
              "    <tr>\n",
              "      <th>mean</th>\n",
              "      <td>12562.440455</td>\n",
              "      <td>12919.055186</td>\n",
              "      <td>12171.932037</td>\n",
              "      <td>12585.280719</td>\n",
              "      <td>12585.280719</td>\n",
              "      <td>1.899253e+10</td>\n",
              "    </tr>\n",
              "    <tr>\n",
              "      <th>std</th>\n",
              "      <td>14328.866958</td>\n",
              "      <td>14761.705859</td>\n",
              "      <td>13824.860353</td>\n",
              "      <td>14344.321311</td>\n",
              "      <td>14344.321311</td>\n",
              "      <td>2.122287e+10</td>\n",
              "    </tr>\n",
              "    <tr>\n",
              "      <th>min</th>\n",
              "      <td>600.807007</td>\n",
              "      <td>603.380981</td>\n",
              "      <td>599.710999</td>\n",
              "      <td>600.825989</td>\n",
              "      <td>600.825989</td>\n",
              "      <td>3.397780e+07</td>\n",
              "    </tr>\n",
              "    <tr>\n",
              "      <th>25%</th>\n",
              "      <td>4079.807740</td>\n",
              "      <td>4165.619629</td>\n",
              "      <td>3995.687622</td>\n",
              "      <td>4082.832642</td>\n",
              "      <td>4082.832642</td>\n",
              "      <td>3.717140e+09</td>\n",
              "    </tr>\n",
              "    <tr>\n",
              "      <th>50%</th>\n",
              "      <td>7991.885254</td>\n",
              "      <td>8197.788086</td>\n",
              "      <td>7788.373535</td>\n",
              "      <td>7988.560547</td>\n",
              "      <td>7988.560547</td>\n",
              "      <td>1.316083e+10</td>\n",
              "    </tr>\n",
              "    <tr>\n",
              "      <th>75%</th>\n",
              "      <td>11251.101562</td>\n",
              "      <td>11528.194824</td>\n",
              "      <td>10928.497558</td>\n",
              "      <td>11277.880860</td>\n",
              "      <td>11277.880860</td>\n",
              "      <td>2.881743e+10</td>\n",
              "    </tr>\n",
              "    <tr>\n",
              "      <th>max</th>\n",
              "      <td>63523.753906</td>\n",
              "      <td>64863.097656</td>\n",
              "      <td>62208.964844</td>\n",
              "      <td>63503.457031</td>\n",
              "      <td>63503.457031</td>\n",
              "      <td>3.509679e+11</td>\n",
              "    </tr>\n",
              "  </tbody>\n",
              "</table>\n",
              "</div>"
            ],
            "text/plain": [
              "               Open          High  ...     Adj Close        Volume\n",
              "count   1823.000000   1823.000000  ...   1823.000000  1.823000e+03\n",
              "mean   12562.440455  12919.055186  ...  12585.280719  1.899253e+10\n",
              "std    14328.866958  14761.705859  ...  14344.321311  2.122287e+10\n",
              "min      600.807007    603.380981  ...    600.825989  3.397780e+07\n",
              "25%     4079.807740   4165.619629  ...   4082.832642  3.717140e+09\n",
              "50%     7991.885254   8197.788086  ...   7988.560547  1.316083e+10\n",
              "75%    11251.101562  11528.194824  ...  11277.880860  2.881743e+10\n",
              "max    63523.753906  64863.097656  ...  63503.457031  3.509679e+11\n",
              "\n",
              "[8 rows x 6 columns]"
            ]
          },
          "metadata": {},
          "execution_count": 154
        }
      ]
    },
    {
      "cell_type": "code",
      "metadata": {
        "colab": {
          "base_uri": "https://localhost:8080/",
          "height": 424
        },
        "id": "718HPSQ6YvHm",
        "outputId": "737dd77a-d75b-478a-c592-26609105d92d"
      },
      "source": [
        "data_training = data[data['Date']< '2020-01-01'].copy()\n",
        "data_training"
      ],
      "execution_count": 155,
      "outputs": [
        {
          "output_type": "execute_result",
          "data": {
            "text/html": [
              "<div>\n",
              "<style scoped>\n",
              "    .dataframe tbody tr th:only-of-type {\n",
              "        vertical-align: middle;\n",
              "    }\n",
              "\n",
              "    .dataframe tbody tr th {\n",
              "        vertical-align: top;\n",
              "    }\n",
              "\n",
              "    .dataframe thead th {\n",
              "        text-align: right;\n",
              "    }\n",
              "</style>\n",
              "<table border=\"1\" class=\"dataframe\">\n",
              "  <thead>\n",
              "    <tr style=\"text-align: right;\">\n",
              "      <th></th>\n",
              "      <th>Date</th>\n",
              "      <th>Open</th>\n",
              "      <th>High</th>\n",
              "      <th>Low</th>\n",
              "      <th>Close</th>\n",
              "      <th>Adj Close</th>\n",
              "      <th>Volume</th>\n",
              "    </tr>\n",
              "  </thead>\n",
              "  <tbody>\n",
              "    <tr>\n",
              "      <th>0</th>\n",
              "      <td>2016-09-24</td>\n",
              "      <td>602.960999</td>\n",
              "      <td>604.580017</td>\n",
              "      <td>602.044983</td>\n",
              "      <td>602.625000</td>\n",
              "      <td>602.625000</td>\n",
              "      <td>3.535950e+07</td>\n",
              "    </tr>\n",
              "    <tr>\n",
              "      <th>1</th>\n",
              "      <td>2016-09-25</td>\n",
              "      <td>602.749023</td>\n",
              "      <td>603.380981</td>\n",
              "      <td>599.710999</td>\n",
              "      <td>600.825989</td>\n",
              "      <td>600.825989</td>\n",
              "      <td>3.397780e+07</td>\n",
              "    </tr>\n",
              "    <tr>\n",
              "      <th>2</th>\n",
              "      <td>2016-09-26</td>\n",
              "      <td>600.807007</td>\n",
              "      <td>608.143005</td>\n",
              "      <td>600.348999</td>\n",
              "      <td>608.043030</td>\n",
              "      <td>608.043030</td>\n",
              "      <td>5.915380e+07</td>\n",
              "    </tr>\n",
              "    <tr>\n",
              "      <th>3</th>\n",
              "      <td>2016-09-27</td>\n",
              "      <td>608.021973</td>\n",
              "      <td>608.247986</td>\n",
              "      <td>604.109985</td>\n",
              "      <td>606.166016</td>\n",
              "      <td>606.166016</td>\n",
              "      <td>4.942240e+07</td>\n",
              "    </tr>\n",
              "    <tr>\n",
              "      <th>4</th>\n",
              "      <td>2016-09-28</td>\n",
              "      <td>606.242981</td>\n",
              "      <td>606.590027</td>\n",
              "      <td>604.606995</td>\n",
              "      <td>604.728027</td>\n",
              "      <td>604.728027</td>\n",
              "      <td>4.872260e+07</td>\n",
              "    </tr>\n",
              "    <tr>\n",
              "      <th>...</th>\n",
              "      <td>...</td>\n",
              "      <td>...</td>\n",
              "      <td>...</td>\n",
              "      <td>...</td>\n",
              "      <td>...</td>\n",
              "      <td>...</td>\n",
              "      <td>...</td>\n",
              "    </tr>\n",
              "    <tr>\n",
              "      <th>1189</th>\n",
              "      <td>2019-12-27</td>\n",
              "      <td>7238.141113</td>\n",
              "      <td>7363.529297</td>\n",
              "      <td>7189.934082</td>\n",
              "      <td>7290.088379</td>\n",
              "      <td>7290.088379</td>\n",
              "      <td>2.277736e+10</td>\n",
              "    </tr>\n",
              "    <tr>\n",
              "      <th>1190</th>\n",
              "      <td>2019-12-28</td>\n",
              "      <td>7289.031250</td>\n",
              "      <td>7399.041016</td>\n",
              "      <td>7286.905273</td>\n",
              "      <td>7317.990234</td>\n",
              "      <td>7317.990234</td>\n",
              "      <td>2.136567e+10</td>\n",
              "    </tr>\n",
              "    <tr>\n",
              "      <th>1191</th>\n",
              "      <td>2019-12-29</td>\n",
              "      <td>7317.647461</td>\n",
              "      <td>7513.948242</td>\n",
              "      <td>7279.865234</td>\n",
              "      <td>7422.652832</td>\n",
              "      <td>7422.652832</td>\n",
              "      <td>2.244526e+10</td>\n",
              "    </tr>\n",
              "    <tr>\n",
              "      <th>1192</th>\n",
              "      <td>2019-12-30</td>\n",
              "      <td>7420.272949</td>\n",
              "      <td>7454.824219</td>\n",
              "      <td>7276.308105</td>\n",
              "      <td>7292.995117</td>\n",
              "      <td>7292.995117</td>\n",
              "      <td>2.287413e+10</td>\n",
              "    </tr>\n",
              "    <tr>\n",
              "      <th>1193</th>\n",
              "      <td>2019-12-31</td>\n",
              "      <td>7294.438965</td>\n",
              "      <td>7335.290039</td>\n",
              "      <td>7169.777832</td>\n",
              "      <td>7193.599121</td>\n",
              "      <td>7193.599121</td>\n",
              "      <td>2.116795e+10</td>\n",
              "    </tr>\n",
              "  </tbody>\n",
              "</table>\n",
              "<p>1194 rows × 7 columns</p>\n",
              "</div>"
            ],
            "text/plain": [
              "            Date         Open  ...    Adj Close        Volume\n",
              "0     2016-09-24   602.960999  ...   602.625000  3.535950e+07\n",
              "1     2016-09-25   602.749023  ...   600.825989  3.397780e+07\n",
              "2     2016-09-26   600.807007  ...   608.043030  5.915380e+07\n",
              "3     2016-09-27   608.021973  ...   606.166016  4.942240e+07\n",
              "4     2016-09-28   606.242981  ...   604.728027  4.872260e+07\n",
              "...          ...          ...  ...          ...           ...\n",
              "1189  2019-12-27  7238.141113  ...  7290.088379  2.277736e+10\n",
              "1190  2019-12-28  7289.031250  ...  7317.990234  2.136567e+10\n",
              "1191  2019-12-29  7317.647461  ...  7422.652832  2.244526e+10\n",
              "1192  2019-12-30  7420.272949  ...  7292.995117  2.287413e+10\n",
              "1193  2019-12-31  7294.438965  ...  7193.599121  2.116795e+10\n",
              "\n",
              "[1194 rows x 7 columns]"
            ]
          },
          "metadata": {},
          "execution_count": 155
        }
      ]
    },
    {
      "cell_type": "code",
      "metadata": {
        "colab": {
          "base_uri": "https://localhost:8080/",
          "height": 424
        },
        "id": "pvk132dYYyjt",
        "outputId": "bbab6354-132d-4ea7-c1f7-2acd143f310d"
      },
      "source": [
        "data_test = data[data['Date']< '2020-01-01'].copy()\n",
        "data_test"
      ],
      "execution_count": 156,
      "outputs": [
        {
          "output_type": "execute_result",
          "data": {
            "text/html": [
              "<div>\n",
              "<style scoped>\n",
              "    .dataframe tbody tr th:only-of-type {\n",
              "        vertical-align: middle;\n",
              "    }\n",
              "\n",
              "    .dataframe tbody tr th {\n",
              "        vertical-align: top;\n",
              "    }\n",
              "\n",
              "    .dataframe thead th {\n",
              "        text-align: right;\n",
              "    }\n",
              "</style>\n",
              "<table border=\"1\" class=\"dataframe\">\n",
              "  <thead>\n",
              "    <tr style=\"text-align: right;\">\n",
              "      <th></th>\n",
              "      <th>Date</th>\n",
              "      <th>Open</th>\n",
              "      <th>High</th>\n",
              "      <th>Low</th>\n",
              "      <th>Close</th>\n",
              "      <th>Adj Close</th>\n",
              "      <th>Volume</th>\n",
              "    </tr>\n",
              "  </thead>\n",
              "  <tbody>\n",
              "    <tr>\n",
              "      <th>0</th>\n",
              "      <td>2016-09-24</td>\n",
              "      <td>602.960999</td>\n",
              "      <td>604.580017</td>\n",
              "      <td>602.044983</td>\n",
              "      <td>602.625000</td>\n",
              "      <td>602.625000</td>\n",
              "      <td>3.535950e+07</td>\n",
              "    </tr>\n",
              "    <tr>\n",
              "      <th>1</th>\n",
              "      <td>2016-09-25</td>\n",
              "      <td>602.749023</td>\n",
              "      <td>603.380981</td>\n",
              "      <td>599.710999</td>\n",
              "      <td>600.825989</td>\n",
              "      <td>600.825989</td>\n",
              "      <td>3.397780e+07</td>\n",
              "    </tr>\n",
              "    <tr>\n",
              "      <th>2</th>\n",
              "      <td>2016-09-26</td>\n",
              "      <td>600.807007</td>\n",
              "      <td>608.143005</td>\n",
              "      <td>600.348999</td>\n",
              "      <td>608.043030</td>\n",
              "      <td>608.043030</td>\n",
              "      <td>5.915380e+07</td>\n",
              "    </tr>\n",
              "    <tr>\n",
              "      <th>3</th>\n",
              "      <td>2016-09-27</td>\n",
              "      <td>608.021973</td>\n",
              "      <td>608.247986</td>\n",
              "      <td>604.109985</td>\n",
              "      <td>606.166016</td>\n",
              "      <td>606.166016</td>\n",
              "      <td>4.942240e+07</td>\n",
              "    </tr>\n",
              "    <tr>\n",
              "      <th>4</th>\n",
              "      <td>2016-09-28</td>\n",
              "      <td>606.242981</td>\n",
              "      <td>606.590027</td>\n",
              "      <td>604.606995</td>\n",
              "      <td>604.728027</td>\n",
              "      <td>604.728027</td>\n",
              "      <td>4.872260e+07</td>\n",
              "    </tr>\n",
              "    <tr>\n",
              "      <th>...</th>\n",
              "      <td>...</td>\n",
              "      <td>...</td>\n",
              "      <td>...</td>\n",
              "      <td>...</td>\n",
              "      <td>...</td>\n",
              "      <td>...</td>\n",
              "      <td>...</td>\n",
              "    </tr>\n",
              "    <tr>\n",
              "      <th>1189</th>\n",
              "      <td>2019-12-27</td>\n",
              "      <td>7238.141113</td>\n",
              "      <td>7363.529297</td>\n",
              "      <td>7189.934082</td>\n",
              "      <td>7290.088379</td>\n",
              "      <td>7290.088379</td>\n",
              "      <td>2.277736e+10</td>\n",
              "    </tr>\n",
              "    <tr>\n",
              "      <th>1190</th>\n",
              "      <td>2019-12-28</td>\n",
              "      <td>7289.031250</td>\n",
              "      <td>7399.041016</td>\n",
              "      <td>7286.905273</td>\n",
              "      <td>7317.990234</td>\n",
              "      <td>7317.990234</td>\n",
              "      <td>2.136567e+10</td>\n",
              "    </tr>\n",
              "    <tr>\n",
              "      <th>1191</th>\n",
              "      <td>2019-12-29</td>\n",
              "      <td>7317.647461</td>\n",
              "      <td>7513.948242</td>\n",
              "      <td>7279.865234</td>\n",
              "      <td>7422.652832</td>\n",
              "      <td>7422.652832</td>\n",
              "      <td>2.244526e+10</td>\n",
              "    </tr>\n",
              "    <tr>\n",
              "      <th>1192</th>\n",
              "      <td>2019-12-30</td>\n",
              "      <td>7420.272949</td>\n",
              "      <td>7454.824219</td>\n",
              "      <td>7276.308105</td>\n",
              "      <td>7292.995117</td>\n",
              "      <td>7292.995117</td>\n",
              "      <td>2.287413e+10</td>\n",
              "    </tr>\n",
              "    <tr>\n",
              "      <th>1193</th>\n",
              "      <td>2019-12-31</td>\n",
              "      <td>7294.438965</td>\n",
              "      <td>7335.290039</td>\n",
              "      <td>7169.777832</td>\n",
              "      <td>7193.599121</td>\n",
              "      <td>7193.599121</td>\n",
              "      <td>2.116795e+10</td>\n",
              "    </tr>\n",
              "  </tbody>\n",
              "</table>\n",
              "<p>1194 rows × 7 columns</p>\n",
              "</div>"
            ],
            "text/plain": [
              "            Date         Open  ...    Adj Close        Volume\n",
              "0     2016-09-24   602.960999  ...   602.625000  3.535950e+07\n",
              "1     2016-09-25   602.749023  ...   600.825989  3.397780e+07\n",
              "2     2016-09-26   600.807007  ...   608.043030  5.915380e+07\n",
              "3     2016-09-27   608.021973  ...   606.166016  4.942240e+07\n",
              "4     2016-09-28   606.242981  ...   604.728027  4.872260e+07\n",
              "...          ...          ...  ...          ...           ...\n",
              "1189  2019-12-27  7238.141113  ...  7290.088379  2.277736e+10\n",
              "1190  2019-12-28  7289.031250  ...  7317.990234  2.136567e+10\n",
              "1191  2019-12-29  7317.647461  ...  7422.652832  2.244526e+10\n",
              "1192  2019-12-30  7420.272949  ...  7292.995117  2.287413e+10\n",
              "1193  2019-12-31  7294.438965  ...  7193.599121  2.116795e+10\n",
              "\n",
              "[1194 rows x 7 columns]"
            ]
          },
          "metadata": {},
          "execution_count": 156
        }
      ]
    },
    {
      "cell_type": "code",
      "metadata": {
        "colab": {
          "base_uri": "https://localhost:8080/",
          "height": 206
        },
        "id": "SHx0fC_laE30",
        "outputId": "0676897d-d726-4a61-e1b6-b964343273de"
      },
      "source": [
        " training_data = data_training.drop(['Date', 'Adj Close'], axis = 1)\n",
        " training_data.head()"
      ],
      "execution_count": 157,
      "outputs": [
        {
          "output_type": "execute_result",
          "data": {
            "text/html": [
              "<div>\n",
              "<style scoped>\n",
              "    .dataframe tbody tr th:only-of-type {\n",
              "        vertical-align: middle;\n",
              "    }\n",
              "\n",
              "    .dataframe tbody tr th {\n",
              "        vertical-align: top;\n",
              "    }\n",
              "\n",
              "    .dataframe thead th {\n",
              "        text-align: right;\n",
              "    }\n",
              "</style>\n",
              "<table border=\"1\" class=\"dataframe\">\n",
              "  <thead>\n",
              "    <tr style=\"text-align: right;\">\n",
              "      <th></th>\n",
              "      <th>Open</th>\n",
              "      <th>High</th>\n",
              "      <th>Low</th>\n",
              "      <th>Close</th>\n",
              "      <th>Volume</th>\n",
              "    </tr>\n",
              "  </thead>\n",
              "  <tbody>\n",
              "    <tr>\n",
              "      <th>0</th>\n",
              "      <td>602.960999</td>\n",
              "      <td>604.580017</td>\n",
              "      <td>602.044983</td>\n",
              "      <td>602.625000</td>\n",
              "      <td>35359500.0</td>\n",
              "    </tr>\n",
              "    <tr>\n",
              "      <th>1</th>\n",
              "      <td>602.749023</td>\n",
              "      <td>603.380981</td>\n",
              "      <td>599.710999</td>\n",
              "      <td>600.825989</td>\n",
              "      <td>33977800.0</td>\n",
              "    </tr>\n",
              "    <tr>\n",
              "      <th>2</th>\n",
              "      <td>600.807007</td>\n",
              "      <td>608.143005</td>\n",
              "      <td>600.348999</td>\n",
              "      <td>608.043030</td>\n",
              "      <td>59153800.0</td>\n",
              "    </tr>\n",
              "    <tr>\n",
              "      <th>3</th>\n",
              "      <td>608.021973</td>\n",
              "      <td>608.247986</td>\n",
              "      <td>604.109985</td>\n",
              "      <td>606.166016</td>\n",
              "      <td>49422400.0</td>\n",
              "    </tr>\n",
              "    <tr>\n",
              "      <th>4</th>\n",
              "      <td>606.242981</td>\n",
              "      <td>606.590027</td>\n",
              "      <td>604.606995</td>\n",
              "      <td>604.728027</td>\n",
              "      <td>48722600.0</td>\n",
              "    </tr>\n",
              "  </tbody>\n",
              "</table>\n",
              "</div>"
            ],
            "text/plain": [
              "         Open        High         Low       Close      Volume\n",
              "0  602.960999  604.580017  602.044983  602.625000  35359500.0\n",
              "1  602.749023  603.380981  599.710999  600.825989  33977800.0\n",
              "2  600.807007  608.143005  600.348999  608.043030  59153800.0\n",
              "3  608.021973  608.247986  604.109985  606.166016  49422400.0\n",
              "4  606.242981  606.590027  604.606995  604.728027  48722600.0"
            ]
          },
          "metadata": {},
          "execution_count": 157
        }
      ]
    },
    {
      "cell_type": "code",
      "metadata": {
        "colab": {
          "base_uri": "https://localhost:8080/"
        },
        "id": "ZTAiLyYSaNiV",
        "outputId": "e96713c9-d58f-4e39-cb47-0ecf4bbc2708"
      },
      "source": [
        "#MinMaxScaler is used to normalize the data\n",
        "scaler = MinMaxScaler()\n",
        "training_data = scaler.fit_transform(training_data)\n",
        "training_data"
      ],
      "execution_count": 158,
      "outputs": [
        {
          "output_type": "execute_result",
          "data": {
            "text/plain": [
              "array([[1.14118819e-04, 6.15344064e-05, 1.27023764e-04, 9.52030226e-05,\n",
              "        3.06555622e-05],\n",
              "       [1.02888299e-04, 0.00000000e+00, 0.00000000e+00, 0.00000000e+00,\n",
              "        0.00000000e+00],\n",
              "       [0.00000000e+00, 2.44386591e-04, 3.47222437e-05, 3.81923244e-04,\n",
              "        5.58575982e-04],\n",
              "       ...,\n",
              "       [3.55859214e-01, 3.54649614e-01, 3.63557905e-01, 3.61008652e-01,\n",
              "        4.97235568e-01],\n",
              "       [3.61296328e-01, 3.51615375e-01, 3.63364314e-01, 3.54147211e-01,\n",
              "        5.06750928e-01],\n",
              "       [3.54629625e-01, 3.45480893e-01, 3.57566555e-01, 3.48887211e-01,\n",
              "        4.68896056e-01]])"
            ]
          },
          "metadata": {},
          "execution_count": 158
        }
      ]
    },
    {
      "cell_type": "code",
      "metadata": {
        "id": "_qJHqq2daT_q"
      },
      "source": [
        "X_train = [] \n",
        "Y_train = []"
      ],
      "execution_count": 159,
      "outputs": []
    },
    {
      "cell_type": "code",
      "metadata": {
        "colab": {
          "base_uri": "https://localhost:8080/"
        },
        "id": "EL9RMjmnaVCr",
        "outputId": "b70ec05a-c448-4fa0-d7ef-2a3c3763dd3e"
      },
      "source": [
        "training_data.shape[0]"
      ],
      "execution_count": 160,
      "outputs": [
        {
          "output_type": "execute_result",
          "data": {
            "text/plain": [
              "1194"
            ]
          },
          "metadata": {},
          "execution_count": 160
        }
      ]
    },
    {
      "cell_type": "code",
      "metadata": {
        "id": "Ru_H7XyuaXZ7"
      },
      "source": [
        "for i in range(60, training_data.shape[0]):\n",
        "   X_train.append(training_data[i-60:i])\n",
        "   Y_train.append(training_data[i,0])"
      ],
      "execution_count": 161,
      "outputs": []
    },
    {
      "cell_type": "code",
      "metadata": {
        "colab": {
          "base_uri": "https://localhost:8080/"
        },
        "id": "QnoZsnspaknT",
        "outputId": "3f94f911-aa59-4990-df6e-51891912b962"
      },
      "source": [
        "X_train, Y_train = np.array(X_train), np.array(Y_train)\n",
        "X_train.shape\n"
      ],
      "execution_count": 162,
      "outputs": [
        {
          "output_type": "execute_result",
          "data": {
            "text/plain": [
              "(1134, 60, 5)"
            ]
          },
          "metadata": {},
          "execution_count": 162
        }
      ]
    },
    {
      "cell_type": "code",
      "metadata": {
        "id": "OWU-TvwDav2a"
      },
      "source": [
        "from tensorflow.keras import Sequential"
      ],
      "execution_count": 163,
      "outputs": []
    },
    {
      "cell_type": "code",
      "metadata": {
        "id": "WZ_IECsmazCE"
      },
      "source": [
        "from tensorflow.keras.layers import Dense, LSTM, Dropout"
      ],
      "execution_count": 164,
      "outputs": []
    },
    {
      "cell_type": "code",
      "metadata": {
        "id": "ptvf15pba4lL"
      },
      "source": [
        "model = Sequential() \n",
        "model.add(LSTM(units = 50, activation = 'relu', return_sequences = True, input_shape = (X_train.shape[1], 5)))\n"
      ],
      "execution_count": 165,
      "outputs": []
    },
    {
      "cell_type": "code",
      "metadata": {
        "colab": {
          "base_uri": "https://localhost:8080/"
        },
        "id": "yaVz7BHZlzsv",
        "outputId": "f3fab52c-adf4-4e10-e05c-e2b368c96dff"
      },
      "source": [
        "model.add(Dropout(0.2)) \n",
        "model.add(LSTM(units = 60, activation = 'relu', return_sequences = True))\n",
        "model.add(Dropout(0.3))\n",
        "model.add(LSTM(units = 80, activation = 'relu', return_sequences = True))\n",
        "model.add(Dropout(0.4))\n",
        "model.add(LSTM(units = 120, activation = 'relu'))\n",
        "model.add(Dropout(0.5)) \n",
        "model.add(Dense(units =1))\n",
        "model.summary()"
      ],
      "execution_count": 166,
      "outputs": [
        {
          "output_type": "stream",
          "name": "stdout",
          "text": [
            "Model: \"sequential_3\"\n",
            "_________________________________________________________________\n",
            "Layer (type)                 Output Shape              Param #   \n",
            "=================================================================\n",
            "lstm_12 (LSTM)               (None, 60, 50)            11200     \n",
            "_________________________________________________________________\n",
            "dropout_12 (Dropout)         (None, 60, 50)            0         \n",
            "_________________________________________________________________\n",
            "lstm_13 (LSTM)               (None, 60, 60)            26640     \n",
            "_________________________________________________________________\n",
            "dropout_13 (Dropout)         (None, 60, 60)            0         \n",
            "_________________________________________________________________\n",
            "lstm_14 (LSTM)               (None, 60, 80)            45120     \n",
            "_________________________________________________________________\n",
            "dropout_14 (Dropout)         (None, 60, 80)            0         \n",
            "_________________________________________________________________\n",
            "lstm_15 (LSTM)               (None, 120)               96480     \n",
            "_________________________________________________________________\n",
            "dropout_15 (Dropout)         (None, 120)               0         \n",
            "_________________________________________________________________\n",
            "dense_3 (Dense)              (None, 1)                 121       \n",
            "=================================================================\n",
            "Total params: 179,561\n",
            "Trainable params: 179,561\n",
            "Non-trainable params: 0\n",
            "_________________________________________________________________\n"
          ]
        }
      ]
    },
    {
      "cell_type": "code",
      "metadata": {
        "id": "AauxY8NGbNgL"
      },
      "source": [
        "model.compile(optimizer = 'adam', loss = 'mean_squared_error')"
      ],
      "execution_count": 167,
      "outputs": []
    },
    {
      "cell_type": "code",
      "metadata": {
        "colab": {
          "base_uri": "https://localhost:8080/"
        },
        "id": "6tj4tDOsbQAp",
        "outputId": "a1ddf302-0867-4894-e0ca-8236b8e1a106"
      },
      "source": [
        "history= model.fit(X_train, Y_train, epochs = 20, batch_size =50, validation_split=0.1)"
      ],
      "execution_count": 168,
      "outputs": [
        {
          "output_type": "stream",
          "name": "stdout",
          "text": [
            "Epoch 1/20\n",
            "21/21 [==============================] - 10s 256ms/step - loss: 0.0432 - val_loss: 0.0037\n",
            "Epoch 2/20\n",
            "21/21 [==============================] - 5s 222ms/step - loss: 0.0115 - val_loss: 0.0016\n",
            "Epoch 3/20\n",
            "21/21 [==============================] - 5s 226ms/step - loss: 0.0089 - val_loss: 0.0016\n",
            "Epoch 4/20\n",
            "21/21 [==============================] - 5s 225ms/step - loss: 0.0082 - val_loss: 0.0017\n",
            "Epoch 5/20\n",
            "21/21 [==============================] - 5s 227ms/step - loss: 0.0070 - val_loss: 0.0041\n",
            "Epoch 6/20\n",
            "21/21 [==============================] - 5s 223ms/step - loss: 0.0070 - val_loss: 0.0033\n",
            "Epoch 7/20\n",
            "21/21 [==============================] - 5s 222ms/step - loss: 0.0061 - val_loss: 0.0024\n",
            "Epoch 8/20\n",
            "21/21 [==============================] - 5s 225ms/step - loss: 0.0058 - val_loss: 0.0051\n",
            "Epoch 9/20\n",
            "21/21 [==============================] - 5s 224ms/step - loss: 0.0061 - val_loss: 0.0031\n",
            "Epoch 10/20\n",
            "21/21 [==============================] - 5s 224ms/step - loss: 0.0057 - val_loss: 0.0018\n",
            "Epoch 11/20\n",
            "21/21 [==============================] - 5s 223ms/step - loss: 0.0050 - val_loss: 0.0023\n",
            "Epoch 12/20\n",
            "21/21 [==============================] - 5s 224ms/step - loss: 0.0053 - val_loss: 0.0011\n",
            "Epoch 13/20\n",
            "21/21 [==============================] - 5s 223ms/step - loss: 0.0051 - val_loss: 0.0025\n",
            "Epoch 14/20\n",
            "21/21 [==============================] - 5s 222ms/step - loss: 0.0046 - val_loss: 0.0016\n",
            "Epoch 15/20\n",
            "21/21 [==============================] - 5s 223ms/step - loss: 0.0049 - val_loss: 0.0010\n",
            "Epoch 16/20\n",
            "21/21 [==============================] - 5s 223ms/step - loss: 0.0045 - val_loss: 0.0019\n",
            "Epoch 17/20\n",
            "21/21 [==============================] - 5s 225ms/step - loss: 0.0051 - val_loss: 0.0015\n",
            "Epoch 18/20\n",
            "21/21 [==============================] - 5s 223ms/step - loss: 0.0042 - val_loss: 0.0037\n",
            "Epoch 19/20\n",
            "21/21 [==============================] - 5s 223ms/step - loss: 0.0039 - val_loss: 0.0012\n",
            "Epoch 20/20\n",
            "21/21 [==============================] - 5s 223ms/step - loss: 0.0037 - val_loss: 0.0017\n"
          ]
        }
      ]
    },
    {
      "cell_type": "code",
      "metadata": {
        "colab": {
          "base_uri": "https://localhost:8080/",
          "height": 281
        },
        "id": "L6BvI31BbSaS",
        "outputId": "d7d5bde0-6288-4a65-fd24-0d919fc6aaf6"
      },
      "source": [
        "loss = history.history['loss']\n",
        "val_loss = history.history['val_loss']\n",
        "epochs = range(len(loss))\n",
        "plt.figure()\n",
        "plt.plot(epochs, loss, 'b', label='Training loss')\n",
        "plt.plot(epochs, val_loss, 'r', label='Validation loss')\n",
        "plt.title(\"Training and Validation Loss\")\n",
        "plt.legend()\n",
        "plt.show()"
      ],
      "execution_count": 169,
      "outputs": [
        {
          "output_type": "display_data",
          "data": {
            "image/png": "[encoded data removed]",
            "text/plain": [
              "<Figure size 432x288 with 1 Axes>"
            ]
          },
          "metadata": {
            "needs_background": "light"
          }
        }
      ]
    },
    {
      "cell_type": "code",
      "metadata": {
        "colab": {
          "base_uri": "https://localhost:8080/",
          "height": 206
        },
        "id": "P_4v2NgtbZsR",
        "outputId": "5d571dfd-5ec1-4ab5-87e5-e1e9cda4aebd"
      },
      "source": [
        "part_60_days = data_training.tail(60)\n",
        "df= part_60_days.append(data_test, ignore_index = True)\n",
        "df = df.drop(['Date', 'Adj Close'], axis = 1)\n",
        "df.head()"
      ],
      "execution_count": 170,
      "outputs": [
        {
          "output_type": "execute_result",
          "data": {
            "text/html": [
              "<div>\n",
              "<style scoped>\n",
              "    .dataframe tbody tr th:only-of-type {\n",
              "        vertical-align: middle;\n",
              "    }\n",
              "\n",
              "    .dataframe tbody tr th {\n",
              "        vertical-align: top;\n",
              "    }\n",
              "\n",
              "    .dataframe thead th {\n",
              "        text-align: right;\n",
              "    }\n",
              "</style>\n",
              "<table border=\"1\" class=\"dataframe\">\n",
              "  <thead>\n",
              "    <tr style=\"text-align: right;\">\n",
              "      <th></th>\n",
              "      <th>Open</th>\n",
              "      <th>High</th>\n",
              "      <th>Low</th>\n",
              "      <th>Close</th>\n",
              "      <th>Volume</th>\n",
              "    </tr>\n",
              "  </thead>\n",
              "  <tbody>\n",
              "    <tr>\n",
              "      <th>0</th>\n",
              "      <td>9259.783203</td>\n",
              "      <td>9377.486328</td>\n",
              "      <td>9249.587891</td>\n",
              "      <td>9324.717773</td>\n",
              "      <td>2.124268e+10</td>\n",
              "    </tr>\n",
              "    <tr>\n",
              "      <th>1</th>\n",
              "      <td>9324.787109</td>\n",
              "      <td>9379.806641</td>\n",
              "      <td>9141.251953</td>\n",
              "      <td>9235.354492</td>\n",
              "      <td>2.113222e+10</td>\n",
              "    </tr>\n",
              "    <tr>\n",
              "      <th>2</th>\n",
              "      <td>9235.607422</td>\n",
              "      <td>9505.051758</td>\n",
              "      <td>9191.485352</td>\n",
              "      <td>9412.612305</td>\n",
              "      <td>2.617026e+10</td>\n",
              "    </tr>\n",
              "    <tr>\n",
              "      <th>3</th>\n",
              "      <td>9413.004883</td>\n",
              "      <td>9457.417969</td>\n",
              "      <td>9256.931641</td>\n",
              "      <td>9342.527344</td>\n",
              "      <td>2.619861e+10</td>\n",
              "    </tr>\n",
              "    <tr>\n",
              "      <th>4</th>\n",
              "      <td>9340.864258</td>\n",
              "      <td>9423.237305</td>\n",
              "      <td>9305.909180</td>\n",
              "      <td>9360.879883</td>\n",
              "      <td>2.313390e+10</td>\n",
              "    </tr>\n",
              "  </tbody>\n",
              "</table>\n",
              "</div>"
            ],
            "text/plain": [
              "          Open         High          Low        Close        Volume\n",
              "0  9259.783203  9377.486328  9249.587891  9324.717773  2.124268e+10\n",
              "1  9324.787109  9379.806641  9141.251953  9235.354492  2.113222e+10\n",
              "2  9235.607422  9505.051758  9191.485352  9412.612305  2.617026e+10\n",
              "3  9413.004883  9457.417969  9256.931641  9342.527344  2.619861e+10\n",
              "4  9340.864258  9423.237305  9305.909180  9360.879883  2.313390e+10"
            ]
          },
          "metadata": {},
          "execution_count": 170
        }
      ]
    },
    {
      "cell_type": "code",
      "metadata": {
        "colab": {
          "base_uri": "https://localhost:8080/"
        },
        "id": "nlPxM1wubbnD",
        "outputId": "f4a2277d-c7be-4123-f5ed-d8129b1bd795"
      },
      "source": [
        "inputs = scaler.transform(df) \n",
        "inputs"
      ],
      "execution_count": 171,
      "outputs": [
        {
          "output_type": "execute_result",
          "data": {
            "text/plain": [
              "array([[0.45875386, 0.4502862 , 0.47075726, 0.46166525, 0.47055408],\n",
              "       [0.46219777, 0.45040528, 0.46486123, 0.45693618, 0.46810342],\n",
              "       [0.45747302, 0.45683285, 0.46759511, 0.4663166 , 0.57988152],\n",
              "       ...,\n",
              "       [0.35585921, 0.35464961, 0.36355791, 0.36100865, 0.49723557],\n",
              "       [0.36129633, 0.35161537, 0.36336431, 0.35414721, 0.50675093],\n",
              "       [0.35462962, 0.34548089, 0.35756655, 0.34888721, 0.46889606]])"
            ]
          },
          "metadata": {},
          "execution_count": 171
        }
      ]
    },
    {
      "cell_type": "code",
      "metadata": {
        "id": "U79PnLgCbkDO",
        "colab": {
          "base_uri": "https://localhost:8080/",
          "height": 206
        },
        "outputId": "a973ca55-9bf0-4425-bf3a-4a2c57a19289"
      },
      "source": [
        "part_60_days = data_training.tail(60)\n",
        "df= part_60_days.append(data_test, ignore_index = True)\n",
        "df = df.drop(['Date', 'Adj Close'], axis = 1)\n",
        "df.head()"
      ],
      "execution_count": 172,
      "outputs": [
        {
          "output_type": "execute_result",
          "data": {
            "text/html": [
              "<div>\n",
              "<style scoped>\n",
              "    .dataframe tbody tr th:only-of-type {\n",
              "        vertical-align: middle;\n",
              "    }\n",
              "\n",
              "    .dataframe tbody tr th {\n",
              "        vertical-align: top;\n",
              "    }\n",
              "\n",
              "    .dataframe thead th {\n",
              "        text-align: right;\n",
              "    }\n",
              "</style>\n",
              "<table border=\"1\" class=\"dataframe\">\n",
              "  <thead>\n",
              "    <tr style=\"text-align: right;\">\n",
              "      <th></th>\n",
              "      <th>Open</th>\n",
              "      <th>High</th>\n",
              "      <th>Low</th>\n",
              "      <th>Close</th>\n",
              "      <th>Volume</th>\n",
              "    </tr>\n",
              "  </thead>\n",
              "  <tbody>\n",
              "    <tr>\n",
              "      <th>0</th>\n",
              "      <td>9259.783203</td>\n",
              "      <td>9377.486328</td>\n",
              "      <td>9249.587891</td>\n",
              "      <td>9324.717773</td>\n",
              "      <td>2.124268e+10</td>\n",
              "    </tr>\n",
              "    <tr>\n",
              "      <th>1</th>\n",
              "      <td>9324.787109</td>\n",
              "      <td>9379.806641</td>\n",
              "      <td>9141.251953</td>\n",
              "      <td>9235.354492</td>\n",
              "      <td>2.113222e+10</td>\n",
              "    </tr>\n",
              "    <tr>\n",
              "      <th>2</th>\n",
              "      <td>9235.607422</td>\n",
              "      <td>9505.051758</td>\n",
              "      <td>9191.485352</td>\n",
              "      <td>9412.612305</td>\n",
              "      <td>2.617026e+10</td>\n",
              "    </tr>\n",
              "    <tr>\n",
              "      <th>3</th>\n",
              "      <td>9413.004883</td>\n",
              "      <td>9457.417969</td>\n",
              "      <td>9256.931641</td>\n",
              "      <td>9342.527344</td>\n",
              "      <td>2.619861e+10</td>\n",
              "    </tr>\n",
              "    <tr>\n",
              "      <th>4</th>\n",
              "      <td>9340.864258</td>\n",
              "      <td>9423.237305</td>\n",
              "      <td>9305.909180</td>\n",
              "      <td>9360.879883</td>\n",
              "      <td>2.313390e+10</td>\n",
              "    </tr>\n",
              "  </tbody>\n",
              "</table>\n",
              "</div>"
            ],
            "text/plain": [
              "          Open         High          Low        Close        Volume\n",
              "0  9259.783203  9377.486328  9249.587891  9324.717773  2.124268e+10\n",
              "1  9324.787109  9379.806641  9141.251953  9235.354492  2.113222e+10\n",
              "2  9235.607422  9505.051758  9191.485352  9412.612305  2.617026e+10\n",
              "3  9413.004883  9457.417969  9256.931641  9342.527344  2.619861e+10\n",
              "4  9340.864258  9423.237305  9305.909180  9360.879883  2.313390e+10"
            ]
          },
          "metadata": {},
          "execution_count": 172
        }
      ]
    },
    {
      "cell_type": "code",
      "metadata": {
        "id": "p_ojVo4ZaHUG"
      },
      "source": [
        "inputs = scaler.transform(df)"
      ],
      "execution_count": 180,
      "outputs": []
    },
    {
      "cell_type": "code",
      "metadata": {
        "id": "yV8eLkmwaKun"
      },
      "source": [
        "X_test =[]\n",
        "Y_test = []\n",
        "X_test=np.array(X_test)\n",
        "Y_test=np.array(Y_test)\n"
      ],
      "execution_count": 181,
      "outputs": []
    },
    {
      "cell_type": "code",
      "metadata": {
        "colab": {
          "base_uri": "https://localhost:8080/"
        },
        "id": "Q9K6mnwaaWT7",
        "outputId": "7b38bce1-975c-42ef-b16c-bde17bbe2486"
      },
      "source": [
        "for i in range (60, inputs.shape[0]):\n",
        "  X_test=np.append(X_test,inputs[i-60:i])\n",
        "  Y_test=np.append(Y_test,inputs[i, 0])\n",
        "  X_test=np.reshape(X_test, X_test.shape + (1,))\n",
        "scaler.scale_\n"
      ],
      "execution_count": 230,
      "outputs": [
        {
          "output_type": "execute_result",
          "data": {
            "text/plain": [
              "array([5.29801499e-05, 5.13198990e-05, 5.44235795e-05, 5.29196445e-05,\n",
              "       2.21868439e-11])"
            ]
          },
          "metadata": {},
          "execution_count": 230
        }
      ]
    },
    {
      "cell_type": "code",
      "metadata": {
        "id": "2EzX36JPHf36"
      },
      "source": [
        ""
      ],
      "execution_count": null,
      "outputs": []
    }
  ]
}